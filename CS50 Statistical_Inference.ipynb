{
 "cells": [
  {
   "cell_type": "code",
   "execution_count": 54,
   "id": "431547c4",
   "metadata": {},
   "outputs": [
    {
     "name": "stdout",
     "output_type": "stream",
     "text": [
      "    gender  height\n",
      "0   female    1.50\n",
      "1     male    1.78\n",
      "2     male    1.75\n",
      "3     male    1.68\n",
      "4     male    1.70\n",
      "..     ...     ...\n",
      "95    male    1.80\n",
      "96  female    1.63\n",
      "97    male    1.78\n",
      "98    male    1.68\n",
      "99    male    1.70\n",
      "\n",
      "[100 rows x 2 columns]\n"
     ]
    }
   ],
   "source": [
    "#import pandas to read the dataset\n",
    "import pandas as pd\n",
    "df = pd.read_csv('~/Downloads/yrbss_data.csv')  \n",
    "print(df)"
   ]
  },
  {
   "cell_type": "code",
   "execution_count": 120,
   "id": "a47fad17",
   "metadata": {},
   "outputs": [
    {
     "name": "stdout",
     "output_type": "stream",
     "text": [
      "0     1.50\n",
      "5     1.57\n",
      "11    1.68\n",
      "12    1.67\n",
      "14    1.60\n",
      "15    1.60\n",
      "16    1.68\n",
      "18    1.73\n",
      "19    1.63\n",
      "20    1.63\n",
      "Name: height, dtype: float64\n",
      "1     1.78\n",
      "2     1.75\n",
      "3     1.68\n",
      "4     1.70\n",
      "6     1.78\n",
      "7     1.63\n",
      "8     1.63\n",
      "9     1.83\n",
      "10    1.69\n",
      "13    1.78\n",
      "Name: height, dtype: float64\n"
     ]
    }
   ],
   "source": [
    "#dividing the dataset into subgroups - male and female \n",
    "height_of_female = df['height'][df['gender']=='female']\n",
    "height_of_male = df['height'][df['gender']=='male']\n",
    "print(height_of_female.head(10))\n",
    "print(height_of_male.head(10))"
   ]
  },
  {
   "cell_type": "code",
   "execution_count": 135,
   "id": "2d679cba",
   "metadata": {},
   "outputs": [
    {
     "data": {
      "text/plain": [
       "count    51.000000\n",
       "mean      1.648431\n",
       "std       0.070011\n",
       "min       1.500000\n",
       "25%       1.600000\n",
       "50%       1.650000\n",
       "75%       1.700000\n",
       "max       1.800000\n",
       "Name: height, dtype: float64"
      ]
     },
     "execution_count": 135,
     "metadata": {},
     "output_type": "execute_result"
    }
   ],
   "source": [
    "#print the summary statistics: mean,count,SD for height of female\n",
    "height_of_female.describe()"
   ]
  },
  {
   "cell_type": "code",
   "execution_count": 136,
   "id": "3291c8f1",
   "metadata": {},
   "outputs": [
    {
     "data": {
      "text/plain": [
       "count    48.000000\n",
       "mean      1.747917\n",
       "std       0.076990\n",
       "min       1.550000\n",
       "25%       1.700000\n",
       "50%       1.750000\n",
       "75%       1.785000\n",
       "max       1.930000\n",
       "Name: height, dtype: float64"
      ]
     },
     "execution_count": 136,
     "metadata": {},
     "output_type": "execute_result"
    }
   ],
   "source": [
    "#print the summary statistics: mean,count,SD for height of male\n",
    "height_of_male.describe()"
   ]
  },
  {
   "cell_type": "code",
   "execution_count": 137,
   "id": "99c288a3",
   "metadata": {},
   "outputs": [
    {
     "data": {
      "text/plain": [
       "Text(0, 0.5, 'Frequency')"
      ]
     },
     "execution_count": 137,
     "metadata": {},
     "output_type": "execute_result"
    },
    {
     "data": {
      "image/png": "[encoded data removed]",
      "text/plain": [
       "<Figure size 432x288 with 1 Axes>"
      ]
     },
     "metadata": {
      "needs_background": "light"
     },
     "output_type": "display_data"
    }
   ],
   "source": [
    "#plotting a histogram using the library metplotlib for males height\n",
    "import matplotlib.pyplot as plt\n",
    "plt.hist(height_of_male, color =  'royalblue')\n",
    "plt.xlabel(\"Heights of male\")\n",
    "plt.ylabel(\"Frequency\")"
   ]
  },
  {
   "cell_type": "code",
   "execution_count": 138,
   "id": "4832e6f8",
   "metadata": {},
   "outputs": [
    {
     "data": {
      "text/plain": [
       "Text(0, 0.5, 'Frequency')"
      ]
     },
     "execution_count": 138,
     "metadata": {},
     "output_type": "execute_result"
    },
    {
     "data": {
      "image/png": "[encoded data removed]",
      "text/plain": [
       "<Figure size 432x288 with 1 Axes>"
      ]
     },
     "metadata": {
      "needs_background": "light"
     },
     "output_type": "display_data"
    }
   ],
   "source": [
    "#plotting a histogram for females height\n",
    "plt.hist(height_of_female, color = 'pink')\n",
    "plt.xlabel(\"Heights of female\")\n",
    "plt.ylabel(\"Frequency\")"
   ]
  },
  {
   "cell_type": "code",
   "execution_count": 150,
   "id": "7259ad00",
   "metadata": {},
   "outputs": [
    {
     "data": {
      "text/plain": [
       "Text(0, 0.5, 'Frequency')"
      ]
     },
     "execution_count": 150,
     "metadata": {},
     "output_type": "execute_result"
    },
    {
     "data": {
      "image/png": "[encoded data removed]",
      "text/plain": [
       "<Figure size 432x288 with 1 Axes>"
      ]
     },
     "metadata": {
      "needs_background": "light"
     },
     "output_type": "display_data"
    }
   ],
   "source": [
    "#plotting a histogram with both variables to show comparison\n",
    "plt.hist(height_of_female, color = 'pink',alpha= 0.5)\n",
    "plt.hist(height_of_male, color = 'blue', alpha = 0.5)\n",
    "plt.legend(\"FM\")\n",
    "plt.xlabel(\"Height\")\n",
    "plt.ylabel(\"Frequency\")\n"
   ]
  },
  {
   "cell_type": "code",
   "execution_count": 133,
   "id": "30bb04ae",
   "metadata": {
    "scrolled": true
   },
   "outputs": [
    {
     "name": "stdout",
     "output_type": "stream",
     "text": [
      "statistics for female heights\n",
      "median= 1.65\n",
      "mode= 1.6\n",
      "range= 0.30000000000000004\n"
     ]
    }
   ],
   "source": [
    "#import library \n",
    "import statistics \n",
    "print(\"statistics for female heights\")\n",
    "print(\"median=\", statistics.median(height_of_female))\n",
    "print(\"mode=\",statistics.mode(height_of_female))\n",
    "print(\"range=\",(max(height_of_female)-min(height_of_female)))"
   ]
  },
  {
   "cell_type": "code",
   "execution_count": 143,
   "id": "ba9080e5",
   "metadata": {},
   "outputs": [
    {
     "name": "stdout",
     "output_type": "stream",
     "text": [
      "statistics for male heights\n",
      "median= 1.75\n",
      "mode= 1.78\n",
      "range= 0.3799999999999999\n"
     ]
    }
   ],
   "source": [
    "#using library to get relevant statistics \n",
    "print(\"statistics for male heights\")\n",
    "print(\"median=\",statistics.median(height_of_male))\n",
    "print(\"mode=\",statistics.mode(height_of_male))\n",
    "print(\"range=\",(max(height_of_male)-min(height_of_male)))\n"
   ]
  },
  {
   "cell_type": "code",
   "execution_count": 141,
   "id": "baef4ca7",
   "metadata": {},
   "outputs": [
    {
     "name": "stdout",
     "output_type": "stream",
     "text": [
      "t= 6.713450954353862\n",
      "p = 2.22514300865667e-08\n",
      "d = 1.3539963495503458\n",
      "g= 1.3435002538173975\n"
     ]
    }
   ],
   "source": [
    "#this code has been used from class Session 13.2 https://sle-collaboration.minervaproject.com/\n",
    "#?url=https%3A//sle-authoring.minervaproject.com/api/v1/worksheets/c942ce85-aaca-4b51-b9de-d14\n",
    "#b96d31616/&userId=11969&name=Sana+Mehta&avatar=https%3A//s3.amazonaws.com/picasso.fixtures/\n",
    "#Sana_Mehta_11969_2021-08-30T23%3A44%3A59.323Z&noPresence=1&readOnly=1&isInstructor=0&signatu\n",
    "#re=25b3277b489db7d96e36710ca965f652f7c937e4e4d4b95327d6db62d9c5df7b\n",
    "\n",
    "import numpy as np\n",
    "from scipy import stats\n",
    "\n",
    "#defining a function\n",
    "def difference_of_means_test(data1,data2,tails):\n",
    "\n",
    "#finding the count of data \n",
    "    n1 = len(data1)\n",
    "    n2 = len(data2) \n",
    "\n",
    "#finding the mean of the two groups \n",
    "    x1 = np.mean(data1)\n",
    "    x2 = np.mean(data2)\n",
    "    \n",
    "#finding the standard deviation of the dataset\n",
    "    s1 = np.std(data1,ddof=1) #bessels correction using n-1 as denominator\n",
    "    s2 = np.std(data2,ddof=1)\n",
    "\n",
    "#finding the standard error \n",
    "    SE = np.sqrt((s1**2/n1 + s2**2/n2))\n",
    "\n",
    "\n",
    "#finding the t score using standard eror \n",
    "    Tscore = ((x2-x1)/SE)\n",
    "\n",
    "#calculating degrees of freedom given the conservative estimate from openintro \n",
    "    df = min(n1,n2)-1\n",
    "    \n",
    "#calculating p value using stats library \n",
    "    pvalue = tails*stats.t.cdf(-Tscore,df)\n",
    "\n",
    "#calculating pooled standard deviation using the formula \n",
    "    SDpooled = np.sqrt((s1**2*(n1-1) + s2**2*(n2-1))/(n1+n2-2))\n",
    "\n",
    "#calculating cohens d using the formula \n",
    "    Cohensd = (x2-x1)/SDpooled  \n",
    "\n",
    "#calculating hedges g from cohens d\n",
    "    hedgesg = Cohensd*((4*(n1+n2)-9)-(3))/(4*(n1+n2)-9)\n",
    "    \n",
    "#printing all the values calculated using the function     \n",
    "    print('t=',Tscore)\n",
    "    print('p =', pvalue)\n",
    "    print('d =',Cohensd)\n",
    "    print('g=',hedgesg)\n",
    "\n",
    "#calling the function\n",
    "difference_of_means_test(height_of_female,height_of_male,2)"
   ]
  },
  {
   "cell_type": "code",
   "execution_count": 142,
   "id": "84f5feb5",
   "metadata": {},
   "outputs": [
    {
     "name": "stdout",
     "output_type": "stream",
     "text": [
      "confidence_interval= (1.6203121827675093, 1.6596878172324905)\n",
      "confidence_interval= (1.7202809988026393, 1.7597190011973607)\n"
     ]
    }
   ],
   "source": [
    "#importing relevant packages\n",
    "#defining a function for calculating confidence interval\n",
    "from scipy import stats\n",
    "import numpy as np\n",
    "def confidence_interval(mean,SD,n,level): \n",
    "    df = n-1 \n",
    "    t = stats.t.ppf(1-(1-level)/2,df) #finding t score value where 1- (1-level)/2 shows \n",
    "    #sum of two tails and subtrating it from 1 because to give the correct side of the area on the graph \n",
    "    interval=((mean-t*SE,mean+t*SE))\n",
    "    print(\"confidence_interval=\",interval)\n",
    "\n",
    "confidence_interval(1.64,0.7,51,0.95) #for heights of female \n",
    "confidence_interval(1.74,0.7,48,0.95) #for heights of male "
   ]
  },
  {
   "cell_type": "code",
   "execution_count": null,
   "id": "47326d2f",
   "metadata": {},
   "outputs": [],
   "source": []
  }
 ],
 "metadata": {
  "kernelspec": {
   "display_name": "Python 3",
   "language": "python",
   "name": "python3"
  },
  "language_info": {
   "codemirror_mode": {
    "name": "ipython",
    "version": 3
   },
   "file_extension": ".py",
   "mimetype": "text/x-python",
   "name": "python",
   "nbconvert_exporter": "python",
   "pygments_lexer": "ipython3",
   "version": "3.8.8"
  }
 },
 "nbformat": 4,
 "nbformat_minor": 5
}
